{
 "cells": [
  {
   "cell_type": "markdown",
   "metadata": {},
   "source": [
    "---\n",
    "title: \"EODC Dask Tutorial\"\n",
    "subtitle: \"In this notebook we demonstrate the basics of using Dask on the EODC cluster.\"\n",
    "author: \"Author: eodc\"\n",
    "tags: [GFM, DASK]\n",
    "thumbnail: \"https://european-flood.emergency.copernicus.eu/efas_frontend/assets/img/wms/GFM.svg\"\n",
    "license: MIT\n",
    "copyright: \"© 2024 eodc\"\n",
    "---"
   ]
  },
  {
   "cell_type": "markdown",
   "metadata": {},
   "source": [
    "Dask is a flexible parallel computing library for analytics that enables you to\n",
    "scale your computations from a single machine to a cluster. This tutorial will\n",
    "guide you through the basics of using Dask on the EODC cluster. The computation\n",
    "will take place on the cluster and you only need to download the result to your\n",
    "local machine for visualisation or further processing steps. As input data\n",
    "for this tutorial we will use output data from the Global Flood Monitoring (GFM)\n",
    "service. \n",
    "\n",
    "As an example, we will calculate the maximum flood extent of a certain time range\n",
    "over an area of interest in Pakistan. "
   ]
  },
  {
   "cell_type": "markdown",
   "metadata": {},
   "source": [
    "## Prerequisites\n",
    "\n",
    "Before we start, make sure you have installed all the necessary Python libraries and\n",
    "packages with the correct versions. It is important that the cluster and client\n",
    "(your machine) have the same versions for the key Python libraries. The easiest\n",
    "way is to create a new Python environment with the package manager of your liking.\n",
    "See the required dependencies in the [EODC cluster image](https://github.com/eodcgmbh/cluster_image) repository.\n",
    "\n",
    "In order to spin up a dedicated cluster on the EODC cluster, you will need to\n",
    "request an EODC account. Please follow the instructions [here](https://docs.eodc.eu/services/dask.html#who-should-use-dask-gateway-at-eodc)."
   ]
  },
  {
   "cell_type": "markdown",
   "metadata": {},
   "source": [
    "## First some imports"
   ]
  },
  {
   "cell_type": "code",
   "execution_count": null,
   "metadata": {},
   "outputs": [],
   "source": [
    "import pyproj\n",
    "import rioxarray\n",
    "import xarray as xr\n",
    "from datetime import datetime\n",
    "from shapely.geometry import box\n",
    "from pystac_client import Client\n",
    "from odc import stac as odc_stac\n",
    "import matplotlib.pyplot as plt\n",
    "\n",
    "from eodc.dask import EODCDaskGateway"
   ]
  },
  {
   "cell_type": "markdown",
   "metadata": {},
   "source": [
    "## Initialize cluster\n",
    "\n",
    "Your username of your EODC account come here, usually it is your email address\n",
    "you have used for registration. \n",
    "After running the next cell, a prompt will open and ask you to enter your\n",
    "password. "
   ]
  },
  {
   "cell_type": "code",
   "execution_count": null,
   "metadata": {},
   "outputs": [],
   "source": [
    "your_username = \"your.email@address.com\"\n",
    "gateway = EODCDaskGateway(username=your_username)"
   ]
  },
  {
   "cell_type": "markdown",
   "metadata": {},
   "source": [
    "Once authenticated, you can specify the details of your cluster. Specify the\n",
    "number of cores and size of memory of your worker machines. \n",
    "Additionally, you can specify any public docker image which has the same dask\n",
    "version installed like our Dask cluster. However, we suggest you are using our\n",
    "cluster image to avoid errors coming from mismatching software versions.\n",
    "\n",
    "You will find more detailed information about dask\n",
    "[here](https://docs.eodc.eu/services/dask.html).\n",
    "\n",
    "The client object provides you with an URL to the dashboard of your current\n",
    "cluster. Copy/paste this into your Firefox browser to get an overview what is\n",
    "currently happening on your cluster.\n",
    "\n",
    "Please make sure to re-use or shutdown an existing cluster, before spawning a\n",
    "new one!"
   ]
  },
  {
   "cell_type": "code",
   "execution_count": null,
   "metadata": {},
   "outputs": [],
   "source": [
    "# Define cluster options\n",
    "cluster_options = gateway.cluster_options()\n",
    "\n",
    "# Set the number of cores per worker\n",
    "cluster_options.worker_cores = 8\n",
    "\n",
    "# Set the memory per worker (in GB)\n",
    "cluster_options.worker_memory = 16\n",
    "\n",
    "# Specify the Docker image to use for the workers\n",
    "cluster_options.image = \"ghcr.io/eodcgmbh/cluster_image:2025.7.1\"\n",
    "\n",
    "# Create a new cluster with the specified options\n",
    "cluster = gateway.new_cluster(cluster_options)\n",
    "\n",
    "# Automatically scale the cluster between 1 and 10 workers based on workload\n",
    "cluster.adapt(1, 10)  \n",
    "\n",
    "# Optionally, scale the cluster to use only one worker\n",
    "# cluster.scale(1)\n",
    "\n",
    "# Get a Dask client for the cluster\n",
    "client = cluster.get_client()\n",
    "client.dashboard_link"
   ]
  },
  {
   "cell_type": "markdown",
   "metadata": {},
   "source": [
    "## Search and load data\n",
    "\n",
    "Now we will define our area (AOI) and time range of interest for which we want\n",
    "to calculate the maximum flood extent for.\n",
    "\n",
    "All GFM data is registered as a [STAC](https://stacspec.org/en/) collection.\n",
    "Please find more information about STAC in our [documentation](https://docs.eodc.eu/services/stac.html)."
   ]
  },
  {
   "cell_type": "code",
   "execution_count": null,
   "metadata": {},
   "outputs": [
    {
     "name": "stdout",
     "output_type": "stream",
     "text": [
      "On EODC we found 157 items for the given search query\n"
     ]
    }
   ],
   "source": [
    "# Define the API URL\n",
    "api_url = \"https://stac.eodc.eu/api/v1\"\n",
    "\n",
    "# Define the STAC collection ID\n",
    "collection_id = \"GFM\"\n",
    "\n",
    "# Define the area of interest (AOI) as a bounding box\n",
    "aoi = box(67.398376, 26.197341, 69.027100, 27.591066)\n",
    "\n",
    "# Define the time range for the search\n",
    "time_range = (datetime(2022, 9, 1), datetime(2022, 10, 1))\n",
    "\n",
    "# Open the STAC catalog using the specified API URL\n",
    "eodc_catalog = Client.open(api_url)\n",
    "\n",
    "# Perform a search in the catalog with the specified parameters\n",
    "search = eodc_catalog.search(\n",
    "    max_items=1000,             # Maximum number of items to return\n",
    "    collections=collection_id,  # The collection to search within\n",
    "    intersects=aoi,             # The area of interest\n",
    "    datetime=time_range         # The time range for the search\n",
    ")\n",
    "\n",
    "# Collect the found items into an item collection\n",
    "items = search.item_collection()\n",
    "\n",
    "print(f\"On EODC we found {len(items)} items for the given search query\")"
   ]
  },
  {
   "cell_type": "markdown",
   "metadata": {},
   "source": [
    "We will use the found STAC items to (lazy) load the data into a xarray.Dataset\n",
    "object. In order to achieve this, we need to specify the bands which we want to\n",
    "load. To calculate the maximum flood extent, we are interested in the\n",
    "\"ensemble_flood_extent\" layer of each GFM item. Furthermore, we need to specify\n",
    "the coordinate reference system (CRS) as well as the resolution of the data. All\n",
    "necessary metadata is saved in each STAC item."
   ]
  },
  {
   "cell_type": "code",
   "execution_count": null,
   "metadata": {},
   "outputs": [],
   "source": [
    "# Extract the coordinate reference system (CRS) from the first item's properties\n",
    "crs = pyproj.CRS.from_wkt(items[0].properties[\"proj:wkt2\"])\n",
    "\n",
    "# Set the resolution of the data\n",
    "resolution = items[0].properties['gsd']\n",
    "\n",
    "# Specify the bands to load\n",
    "bands = [\"ensemble_flood_extent\"]\n",
    "\n",
    "# Load the data using odc-stac with the specified parameters\n",
    "xx = odc_stac.load(\n",
    "    items, \n",
    "    bbox=aoi.bounds,   # Define the bounding box for the area of interest\n",
    "    crs=crs,   # Set the coordinate reference system\n",
    "    bands=bands,   # Specify the bands to load\n",
    "    resolution=resolution,   # Set the resolution of the data\n",
    "    dtype='uint8',   # Define the data type\n",
    "    chunks={\"x\": 1000, \"y\": 1000, \"time\": -1},  # Set the chunk size for Dask\n",
    ")\n",
    "\n",
    "# Extract the 'ensemble_flood_extent' data from the loaded dataset\n",
    "data = xx.ensemble_flood_extent"
   ]
  },
  {
   "cell_type": "markdown",
   "metadata": {},
   "source": [
    "## Process on the cluster\n",
    "\n",
    "First, we filter the data to exclude invalid values and calculate the sum along\n",
    "the time dimension. The maximum flood extent refers to the largest area covered \n",
    "by flooded pixels during the specified time range. Therefore, we convert the\n",
    "result to a binary mask where each pixel is set to 1 if it was flooded during\n",
    "the specified time range, and 0 if it was not. Then we start the computation on\n",
    "the cluster and save the result as a compressed TIFF file. This file can be\n",
    "visualized in e.g. QGIS."
   ]
  },
  {
   "cell_type": "code",
   "execution_count": null,
   "metadata": {},
   "outputs": [],
   "source": [
    "# Filter the data to exclude values of 255 (nodata) and 0 (no-flood), then sum\n",
    "# along the \"time\" dimension \n",
    "result = data.where((data != 255) & (data != 0)).sum(dim=\"time\")\n",
    "\n",
    "# Convert the result to binary (1 where the sum is greater than 0, otherwise 0)\n",
    "# and set the data type to uint8 \n",
    "result = xr.where(result > 0, 1, 0).astype(\"uint8\")\n",
    "\n",
    "# Compute the result\n",
    "computed_result = result.compute(sync=True)\n",
    "\n",
    "# Save the computed result to a GeoTIFF file with LZW compression\n",
    "computed_result.rio.to_raster(\"./max_flood_pakistan_202209.tif\", compress=\"LZW\")"
   ]
  },
  {
   "cell_type": "markdown",
   "metadata": {},
   "source": [
    "Also, we can plot a part of the result with the plotting library matplotlib."
   ]
  },
  {
   "cell_type": "code",
   "execution_count": null,
   "metadata": {},
   "outputs": [
    {
     "data": {
      "image/png": "[encoded data removed]",
      "text/plain": [
       "<Figure size 640x480 with 2 Axes>"
      ]
     },
     "metadata": {},
     "output_type": "display_data"
    }
   ],
   "source": [
    "plt.figure()\n",
    "computed_result[:5000, :5000].plot()\n",
    "plt.title(\"GFM Maximum Flood Extent\")\n",
    "plt.show()"
   ]
  },
  {
   "cell_type": "markdown",
   "metadata": {},
   "source": [
    "## Shutdown cluster\n",
    "\n",
    "After successful processing, we need to shutdown our cluster to free up\n",
    "resources. "
   ]
  },
  {
   "cell_type": "code",
   "execution_count": null,
   "metadata": {},
   "outputs": [],
   "source": [
    "# After a restart of the Jupyter kernel, the cluster object is gone. Use the\n",
    "# following command to connect to the cluster again\n",
    "# cluster = gateway.connect(gateway.list_clusters()[0].name)\n",
    "\n",
    "# Shutdown cluster\n",
    "cluster.shutdown()"
   ]
  }
 ],
 "metadata": {
  "kernelspec": {
   "display_name": "default",
   "language": "python",
   "name": "python3"
  },
  "language_info": {
   "codemirror_mode": {
    "name": "ipython",
    "version": 3
   },
   "file_extension": ".py",
   "mimetype": "text/x-python",
   "name": "python",
   "nbconvert_exporter": "python",
   "pygments_lexer": "ipython3",
   "version": "3.11.13"
  }
 },
 "nbformat": 4,
 "nbformat_minor": 2
}
